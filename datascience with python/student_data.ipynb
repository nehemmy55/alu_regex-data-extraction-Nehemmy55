{
 "cells": [
  {
   "cell_type": "markdown",
   "id": "7a430ad1",
   "metadata": {},
   "source": [
    "## STUDENT - DATA\n",
    "analyze pass/fail mark of student "
   ]
  },
  {
   "cell_type": "code",
   "execution_count": 3,
   "id": "fa104710",
   "metadata": {},
   "outputs": [
    {
     "name": "stdout",
     "output_type": "stream",
     "text": [
      "[50, 40, 53, 15, 74, 65, 45, 23, 22, 70, 80, 82, 75, 55, 90, 78.0, 32, 63, 43, 46, 89, 70, 65, 48]\n"
     ]
    }
   ],
   "source": [
    "data =[50,40,53,15,74,65,45,23,22,70,80,82,75,55,90,78.,32,63,43,46,89,70,65,48]\n",
    "print(data)"
   ]
  },
  {
   "cell_type": "code",
   "execution_count": 4,
   "id": "1e088b22",
   "metadata": {},
   "outputs": [
    {
     "name": "stdout",
     "output_type": "stream",
     "text": [
      "[50. 40. 53. 15. 74. 65. 45. 23. 22. 70. 80. 82. 75. 55. 90. 78. 32. 63.\n",
      " 43. 46. 89. 70. 65. 48.]\n"
     ]
    }
   ],
   "source": [
    "import numpy as np\n",
    "\n",
    "Grades = np.array(data)\n",
    "print(Grades)"
   ]
  },
  {
   "cell_type": "code",
   "execution_count": 6,
   "id": "964e06eb",
   "metadata": {},
   "outputs": [
    {
     "data": {
      "text/plain": [
       "(24,)"
      ]
     },
     "execution_count": 6,
     "metadata": {},
     "output_type": "execute_result"
    }
   ],
   "source": [
    "Grades.shape"
   ]
  },
  {
   "cell_type": "code",
   "execution_count": 7,
   "id": "2dab2066",
   "metadata": {},
   "outputs": [
    {
     "data": {
      "text/plain": [
       "np.float64(65.0)"
      ]
     },
     "execution_count": 7,
     "metadata": {},
     "output_type": "execute_result"
    }
   ],
   "source": [
    "Grades[5]"
   ]
  },
  {
   "cell_type": "code",
   "execution_count": 11,
   "id": "0decc7a6",
   "metadata": {},
   "outputs": [],
   "source": [
    "study_hours=[23,12,10,42,60,33,27,5,8,38,58,78,28,14,11,50,15,16,60,54,44,23,42,27]\n",
    "student_data =np.array([study_hours, Grades])"
   ]
  },
  {
   "cell_type": "code",
   "execution_count": 17,
   "id": "c8fac89a",
   "metadata": {},
   "outputs": [
    {
     "data": {
      "text/plain": [
       "np.float64(15.0)"
      ]
     },
     "execution_count": 17,
     "metadata": {},
     "output_type": "execute_result"
    }
   ],
   "source": [
    "student_data [1][3]"
   ]
  },
  {
   "cell_type": "code",
   "execution_count": 35,
   "id": "12f58030",
   "metadata": {},
   "outputs": [
    {
     "name": "stdout",
     "output_type": "stream",
     "text": [
      "average hours of study : 32.416666666666664 \n",
      " average grade  for student : 57.208333333333336\n"
     ]
    }
   ],
   "source": [
    "avg_hour = student_data[0].mean()\n",
    "avg_grade = student_data[1].mean()\n",
    "\n",
    "print(f'average hours of study : {avg_hour} \\n average grade  for student : {avg_grade}')"
   ]
  }
 ],
 "metadata": {
  "kernelspec": {
   "display_name": "Python 3",
   "language": "python",
   "name": "python3"
  },
  "language_info": {
   "codemirror_mode": {
    "name": "ipython",
    "version": 3
   },
   "file_extension": ".py",
   "mimetype": "text/x-python",
   "name": "python",
   "nbconvert_exporter": "python",
   "pygments_lexer": "ipython3",
   "version": "3.11.9"
  }
 },
 "nbformat": 4,
 "nbformat_minor": 5
}
